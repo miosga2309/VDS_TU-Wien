{
 "cells": [
  {
   "cell_type": "code",
   "execution_count": 3,
   "metadata": {},
   "outputs": [],
   "source": [
    "import pandas as pd\n",
    "import seaborn as sns\n",
    "import numpy as np\n",
    "import matplotlib.pyplot as plt\n",
    "import joypy\n",
    "from matplotlib import pyplot as plt\n",
    "from matplotlib import cm"
   ]
  },
  {
   "cell_type": "code",
   "execution_count": 2,
   "metadata": {},
   "outputs": [],
   "source": [
    "df = pd.read_csv(\"/Users/jonasmiosga/Documents/TU/VDS/bikeSharing.shuf.train.csv\")"
   ]
  },
  {
   "cell_type": "code",
   "execution_count": 3,
   "metadata": {},
   "outputs": [
    {
     "data": {
      "text/html": [
       "<div>\n",
       "<style scoped>\n",
       "    .dataframe tbody tr th:only-of-type {\n",
       "        vertical-align: middle;\n",
       "    }\n",
       "\n",
       "    .dataframe tbody tr th {\n",
       "        vertical-align: top;\n",
       "    }\n",
       "\n",
       "    .dataframe thead th {\n",
       "        text-align: right;\n",
       "    }\n",
       "</style>\n",
       "<table border=\"1\" class=\"dataframe\">\n",
       "  <thead>\n",
       "    <tr style=\"text-align: right;\">\n",
       "      <th></th>\n",
       "      <th>id</th>\n",
       "      <th>cnt</th>\n",
       "      <th>dteday</th>\n",
       "      <th>season</th>\n",
       "      <th>yr</th>\n",
       "      <th>mnth</th>\n",
       "      <th>hr</th>\n",
       "      <th>holiday</th>\n",
       "      <th>weekday</th>\n",
       "      <th>workingday</th>\n",
       "      <th>weathersit</th>\n",
       "      <th>temp</th>\n",
       "      <th>atemp</th>\n",
       "      <th>hum</th>\n",
       "      <th>windspeed</th>\n",
       "    </tr>\n",
       "  </thead>\n",
       "  <tbody>\n",
       "    <tr>\n",
       "      <td>0</td>\n",
       "      <td>12601</td>\n",
       "      <td>40</td>\n",
       "      <td>2012-06-14</td>\n",
       "      <td>2</td>\n",
       "      <td>1</td>\n",
       "      <td>6</td>\n",
       "      <td>5</td>\n",
       "      <td>0</td>\n",
       "      <td>4</td>\n",
       "      <td>1</td>\n",
       "      <td>2</td>\n",
       "      <td>0.60</td>\n",
       "      <td>0.6212</td>\n",
       "      <td>0.56</td>\n",
       "      <td>0.2537</td>\n",
       "    </tr>\n",
       "    <tr>\n",
       "      <td>1</td>\n",
       "      <td>12807</td>\n",
       "      <td>362</td>\n",
       "      <td>2012-06-22</td>\n",
       "      <td>3</td>\n",
       "      <td>1</td>\n",
       "      <td>6</td>\n",
       "      <td>19</td>\n",
       "      <td>0</td>\n",
       "      <td>5</td>\n",
       "      <td>1</td>\n",
       "      <td>2</td>\n",
       "      <td>0.76</td>\n",
       "      <td>0.6970</td>\n",
       "      <td>0.55</td>\n",
       "      <td>0.5224</td>\n",
       "    </tr>\n",
       "    <tr>\n",
       "      <td>2</td>\n",
       "      <td>12039</td>\n",
       "      <td>448</td>\n",
       "      <td>2012-05-21</td>\n",
       "      <td>2</td>\n",
       "      <td>1</td>\n",
       "      <td>5</td>\n",
       "      <td>19</td>\n",
       "      <td>0</td>\n",
       "      <td>1</td>\n",
       "      <td>1</td>\n",
       "      <td>1</td>\n",
       "      <td>0.66</td>\n",
       "      <td>0.6212</td>\n",
       "      <td>0.69</td>\n",
       "      <td>0.0896</td>\n",
       "    </tr>\n",
       "    <tr>\n",
       "      <td>3</td>\n",
       "      <td>15863</td>\n",
       "      <td>79</td>\n",
       "      <td>2012-10-28</td>\n",
       "      <td>4</td>\n",
       "      <td>1</td>\n",
       "      <td>10</td>\n",
       "      <td>3</td>\n",
       "      <td>0</td>\n",
       "      <td>0</td>\n",
       "      <td>0</td>\n",
       "      <td>2</td>\n",
       "      <td>0.50</td>\n",
       "      <td>0.4848</td>\n",
       "      <td>0.63</td>\n",
       "      <td>0.3284</td>\n",
       "    </tr>\n",
       "    <tr>\n",
       "      <td>4</td>\n",
       "      <td>14925</td>\n",
       "      <td>12</td>\n",
       "      <td>2012-09-19</td>\n",
       "      <td>3</td>\n",
       "      <td>1</td>\n",
       "      <td>9</td>\n",
       "      <td>1</td>\n",
       "      <td>0</td>\n",
       "      <td>3</td>\n",
       "      <td>1</td>\n",
       "      <td>2</td>\n",
       "      <td>0.54</td>\n",
       "      <td>0.5152</td>\n",
       "      <td>0.68</td>\n",
       "      <td>0.2537</td>\n",
       "    </tr>\n",
       "  </tbody>\n",
       "</table>\n",
       "</div>"
      ],
      "text/plain": [
       "      id  cnt      dteday  season  yr  mnth  hr  holiday  weekday  workingday  \\\n",
       "0  12601   40  2012-06-14       2   1     6   5        0        4           1   \n",
       "1  12807  362  2012-06-22       3   1     6  19        0        5           1   \n",
       "2  12039  448  2012-05-21       2   1     5  19        0        1           1   \n",
       "3  15863   79  2012-10-28       4   1    10   3        0        0           0   \n",
       "4  14925   12  2012-09-19       3   1     9   1        0        3           1   \n",
       "\n",
       "   weathersit  temp   atemp   hum  windspeed  \n",
       "0           2  0.60  0.6212  0.56     0.2537  \n",
       "1           2  0.76  0.6970  0.55     0.5224  \n",
       "2           1  0.66  0.6212  0.69     0.0896  \n",
       "3           2  0.50  0.4848  0.63     0.3284  \n",
       "4           2  0.54  0.5152  0.68     0.2537  "
      ]
     },
     "execution_count": 3,
     "metadata": {},
     "output_type": "execute_result"
    }
   ],
   "source": [
    "df.head()"
   ]
  },
  {
   "cell_type": "code",
   "execution_count": 4,
   "metadata": {},
   "outputs": [
    {
     "data": {
      "image/png": "[encoded data removed]",
      "text/plain": [
       "<Figure size 432x288 with 1 Axes>"
      ]
     },
     "metadata": {
      "needs_background": "light"
     },
     "output_type": "display_data"
    }
   ],
   "source": [
    "# plot of 2 variables\n",
    "p1=sns.kdeplot(df.cnt[df.yr == 0], shade=True, color=\"r\")\n",
    "p1=sns.kdeplot(df.cnt[df.yr == 1], shade=True, color=\"b\")\n",
    "plt.title('Density of cnt per year')\n",
    "plt.xlabel('cnt')\n",
    "plt.ylabel('density')\n",
    "plt.savefig('/Users/jonasmiosga/Desktop/graphic ML/yeardif.png', dpi=200)"
   ]
  },
  {
   "cell_type": "code",
   "execution_count": 5,
   "metadata": {},
   "outputs": [],
   "source": [
    "season = 4*9.11\n",
    "year = 58.28\n",
    "hour = 6.45*24\n",
    "temp = 98.15\n",
    "atemp = 169.04\n",
    "hum = 153.1"
   ]
  },
  {
   "cell_type": "code",
   "execution_count": 6,
   "metadata": {},
   "outputs": [],
   "source": [
    "piedf = {'season':[season], 'year':[year], 'hour':[hour], 'temp':[temp], 'atemp':[atemp], 'hum':[hum]} \n",
    "\n",
    "piedf = pd.DataFrame(piedf)"
   ]
  },
  {
   "cell_type": "code",
   "execution_count": 7,
   "metadata": {},
   "outputs": [
    {
     "data": {
      "image/png": "[encoded data removed]",
      "text/plain": [
       "<Figure size 432x288 with 1 Axes>"
      ]
     },
     "metadata": {
      "needs_background": "light"
     },
     "output_type": "display_data"
    }
   ],
   "source": [
    "piedf.plot.bar()\n",
    "plt.xlabel('Variables')\n",
    "plt.ylabel('Weight')\n",
    "plt.savefig('/Users/jonasmiosga/Desktop/graphic ML/coefweights.png', dpi=200)"
   ]
  },
  {
   "cell_type": "code",
   "execution_count": 8,
   "metadata": {},
   "outputs": [],
   "source": [
    "data = pd.DataFrame()\n",
    "for i in range(0,23):\n",
    "    data[\"hr{}\".format(i)] = df.cnt[df.hr == i]"
   ]
  },
  {
   "cell_type": "code",
   "execution_count": null,
   "metadata": {},
   "outputs": [],
   "source": []
  },
  {
   "cell_type": "code",
   "execution_count": 9,
   "metadata": {},
   "outputs": [],
   "source": [
    "dfr = pd.read_csv(\"/Users/jonasmiosga/Documents/TU/VDS/ridgelinedata\")"
   ]
  },
  {
   "cell_type": "code",
   "execution_count": 10,
   "metadata": {},
   "outputs": [
    {
     "data": {
      "text/html": [
       "<div>\n",
       "<style scoped>\n",
       "    .dataframe tbody tr th:only-of-type {\n",
       "        vertical-align: middle;\n",
       "    }\n",
       "\n",
       "    .dataframe tbody tr th {\n",
       "        vertical-align: top;\n",
       "    }\n",
       "\n",
       "    .dataframe thead th {\n",
       "        text-align: right;\n",
       "    }\n",
       "</style>\n",
       "<table border=\"1\" class=\"dataframe\">\n",
       "  <thead>\n",
       "    <tr style=\"text-align: right;\">\n",
       "      <th></th>\n",
       "      <th>Unnamed: 0</th>\n",
       "      <th>hr0</th>\n",
       "      <th>hr1</th>\n",
       "      <th>hr2</th>\n",
       "      <th>hr3</th>\n",
       "      <th>hr4</th>\n",
       "      <th>hr5</th>\n",
       "      <th>hr6</th>\n",
       "      <th>hr7</th>\n",
       "      <th>hr8</th>\n",
       "      <th>...</th>\n",
       "      <th>hr14</th>\n",
       "      <th>hr15</th>\n",
       "      <th>hr16</th>\n",
       "      <th>hr17</th>\n",
       "      <th>hr18</th>\n",
       "      <th>hr19</th>\n",
       "      <th>hr20</th>\n",
       "      <th>hr21</th>\n",
       "      <th>hr22</th>\n",
       "      <th>hr23</th>\n",
       "    </tr>\n",
       "  </thead>\n",
       "  <tbody>\n",
       "    <tr>\n",
       "      <td>0</td>\n",
       "      <td>1</td>\n",
       "      <td>28</td>\n",
       "      <td>93</td>\n",
       "      <td>11</td>\n",
       "      <td>79</td>\n",
       "      <td>2</td>\n",
       "      <td>28</td>\n",
       "      <td>182</td>\n",
       "      <td>343</td>\n",
       "      <td>127</td>\n",
       "      <td>...</td>\n",
       "      <td>224</td>\n",
       "      <td>41</td>\n",
       "      <td>326</td>\n",
       "      <td>421</td>\n",
       "      <td>181</td>\n",
       "      <td>156</td>\n",
       "      <td>254</td>\n",
       "      <td>41</td>\n",
       "      <td>114</td>\n",
       "      <td>230</td>\n",
       "    </tr>\n",
       "    <tr>\n",
       "      <td>1</td>\n",
       "      <td>2</td>\n",
       "      <td>108</td>\n",
       "      <td>27</td>\n",
       "      <td>3</td>\n",
       "      <td>7</td>\n",
       "      <td>5</td>\n",
       "      <td>10</td>\n",
       "      <td>1</td>\n",
       "      <td>240</td>\n",
       "      <td>167</td>\n",
       "      <td>...</td>\n",
       "      <td>247</td>\n",
       "      <td>127</td>\n",
       "      <td>451</td>\n",
       "      <td>454</td>\n",
       "      <td>281</td>\n",
       "      <td>296</td>\n",
       "      <td>57</td>\n",
       "      <td>69</td>\n",
       "      <td>70</td>\n",
       "      <td>114</td>\n",
       "    </tr>\n",
       "    <tr>\n",
       "      <td>2</td>\n",
       "      <td>3</td>\n",
       "      <td>98</td>\n",
       "      <td>124</td>\n",
       "      <td>4</td>\n",
       "      <td>4</td>\n",
       "      <td>10</td>\n",
       "      <td>33</td>\n",
       "      <td>43</td>\n",
       "      <td>596</td>\n",
       "      <td>447</td>\n",
       "      <td>...</td>\n",
       "      <td>124</td>\n",
       "      <td>87</td>\n",
       "      <td>320</td>\n",
       "      <td>285</td>\n",
       "      <td>39</td>\n",
       "      <td>173</td>\n",
       "      <td>204</td>\n",
       "      <td>139</td>\n",
       "      <td>148</td>\n",
       "      <td>24</td>\n",
       "    </tr>\n",
       "    <tr>\n",
       "      <td>3</td>\n",
       "      <td>4</td>\n",
       "      <td>26</td>\n",
       "      <td>12</td>\n",
       "      <td>66</td>\n",
       "      <td>5</td>\n",
       "      <td>5</td>\n",
       "      <td>27</td>\n",
       "      <td>95</td>\n",
       "      <td>492</td>\n",
       "      <td>249</td>\n",
       "      <td>...</td>\n",
       "      <td>148</td>\n",
       "      <td>138</td>\n",
       "      <td>258</td>\n",
       "      <td>481</td>\n",
       "      <td>761</td>\n",
       "      <td>308</td>\n",
       "      <td>279</td>\n",
       "      <td>96</td>\n",
       "      <td>87</td>\n",
       "      <td>123</td>\n",
       "    </tr>\n",
       "    <tr>\n",
       "      <td>4</td>\n",
       "      <td>5</td>\n",
       "      <td>93</td>\n",
       "      <td>113</td>\n",
       "      <td>5</td>\n",
       "      <td>4</td>\n",
       "      <td>4</td>\n",
       "      <td>49</td>\n",
       "      <td>163</td>\n",
       "      <td>272</td>\n",
       "      <td>462</td>\n",
       "      <td>...</td>\n",
       "      <td>251</td>\n",
       "      <td>317</td>\n",
       "      <td>783</td>\n",
       "      <td>539</td>\n",
       "      <td>235</td>\n",
       "      <td>283</td>\n",
       "      <td>427</td>\n",
       "      <td>163</td>\n",
       "      <td>214</td>\n",
       "      <td>72</td>\n",
       "    </tr>\n",
       "  </tbody>\n",
       "</table>\n",
       "<p>5 rows × 25 columns</p>\n",
       "</div>"
      ],
      "text/plain": [
       "   Unnamed: 0  hr0  hr1  hr2  hr3  hr4  hr5  hr6  hr7  hr8  ...  hr14  hr15  \\\n",
       "0           1   28   93   11   79    2   28  182  343  127  ...   224    41   \n",
       "1           2  108   27    3    7    5   10    1  240  167  ...   247   127   \n",
       "2           3   98  124    4    4   10   33   43  596  447  ...   124    87   \n",
       "3           4   26   12   66    5    5   27   95  492  249  ...   148   138   \n",
       "4           5   93  113    5    4    4   49  163  272  462  ...   251   317   \n",
       "\n",
       "   hr16  hr17  hr18  hr19  hr20  hr21  hr22  hr23  \n",
       "0   326   421   181   156   254    41   114   230  \n",
       "1   451   454   281   296    57    69    70   114  \n",
       "2   320   285    39   173   204   139   148    24  \n",
       "3   258   481   761   308   279    96    87   123  \n",
       "4   783   539   235   283   427   163   214    72  \n",
       "\n",
       "[5 rows x 25 columns]"
      ]
     },
     "execution_count": 10,
     "metadata": {},
     "output_type": "execute_result"
    }
   ],
   "source": [
    "dfr.head()"
   ]
  },
  {
   "cell_type": "code",
   "execution_count": null,
   "metadata": {},
   "outputs": [],
   "source": []
  },
  {
   "cell_type": "code",
   "execution_count": 32,
   "metadata": {},
   "outputs": [
    {
     "data": {
      "image/png": "[encoded data removed]",
      "text/plain": [
       "<Figure size 576x720 with 26 Axes>"
      ]
     },
     "metadata": {
      "needs_background": "light"
     },
     "output_type": "display_data"
    }
   ],
   "source": [
    "%matplotlib inline\n",
    "fig, axes = joypy.joyplot(dfr, figsize=[8,10],colormap=plt.cm.viridis,x_range = [-50,750])\n",
    "plt.savefig('/Users/jonasmiosga/Documents/TU/VDS/ridgelinepython.png',dpi=300)"
   ]
  },
  {
   "cell_type": "code",
   "execution_count": 25,
   "metadata": {},
   "outputs": [
    {
     "name": "stdout",
     "output_type": "stream",
     "text": [
      "Help on function joyplot in module joypy.joyplot:\n",
      "\n",
      "joyplot(data, column=None, by=None, grid=False, xlabelsize=None, xrot=None, ylabelsize=None, yrot=None, ax=None, figsize=None, hist=False, bins=10, fade=False, ylim='max', fill=True, linecolor=None, overlap=1, background=None, labels=None, xlabels=True, ylabels=True, range_style='all', x_range=None, title=None, colormap=None, **kwds)\n",
      "    Draw joyplot of a DataFrame, or appropriately nested collection,\n",
      "    using matplotlib and pandas.\n",
      "    \n",
      "    A joyplot is a stack of vertically aligned density plots / histograms.\n",
      "    By default, if 'data' is a DataFrame,\n",
      "    this function will plot a density plot for each column.\n",
      "    \n",
      "    This wrapper method tries to convert whatever structure is given\n",
      "    to a nested collection of lists with additional information\n",
      "    on labels, and use the private _joyplot function to actually\n",
      "    draw theh plot.\n",
      "    \n",
      "    Parameters\n",
      "    ----------\n",
      "    data : DataFrame, Series or nested collection\n",
      "    column : string or sequence\n",
      "        If passed, will be used to limit data to a subset of columns\n",
      "    by : object, optional\n",
      "        If passed, used to form separate plot groups\n",
      "    grid : boolean, default True\n",
      "        Whether to show axis grid lines\n",
      "    labels : boolean or list, default True.\n",
      "        If list, must be the same size of the de\n",
      "    xlabelsize : int, default None\n",
      "        If specified changes the x-axis label size\n",
      "    xrot : float, default None\n",
      "        rotation of x axis labels\n",
      "    ylabelsize : int, default None\n",
      "        If specified changes the y-axis label size\n",
      "    yrot : float, default None\n",
      "        rotation of y axis labels\n",
      "    ax : matplotlib axes object, default None\n",
      "    figsize : tuple\n",
      "        The size of the figure to create in inches by default\n",
      "    hist : boolean, default False\n",
      "    bins : integer, default 10\n",
      "        Number of histogram bins to be used\n",
      "    kwds : other plotting keyword arguments\n",
      "        To be passed to hist/kde plot function\n",
      "\n"
     ]
    }
   ],
   "source": [
    "help(joypy.joyplot)"
   ]
  }
 ],
 "metadata": {
  "kernelspec": {
   "display_name": "Python 3",
   "language": "python",
   "name": "python3"
  },
  "language_info": {
   "codemirror_mode": {
    "name": "ipython",
    "version": 3
   },
   "file_extension": ".py",
   "mimetype": "text/x-python",
   "name": "python",
   "nbconvert_exporter": "python",
   "pygments_lexer": "ipython3",
   "version": "3.7.4"
  }
 },
 "nbformat": 4,
 "nbformat_minor": 2
}
